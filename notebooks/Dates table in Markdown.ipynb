{
 "cells": [
  {
   "cell_type": "code",
   "execution_count": 3,
   "id": "circular-meditation",
   "metadata": {},
   "outputs": [],
   "source": [
    "import json"
   ]
  },
  {
   "cell_type": "code",
   "execution_count": 4,
   "id": "eastern-mileage",
   "metadata": {},
   "outputs": [],
   "source": [
    "# load the OxCal KDE age model.\n",
    "with open('../data/age_model/M17_kde_intCal20.json','rb') as f:\n",
    "    d = json.load(f)"
   ]
  },
  {
   "cell_type": "code",
   "execution_count": 5,
   "id": "figured-jones",
   "metadata": {},
   "outputs": [],
   "source": [
    "# make a dictionary of samples with their codes.\n",
    "\n",
    "samples = {\"MIG1\":(\"UBA-39412\",\"twig\"),\n",
    "\"MIG2\":(\"UBA-39413\",\"twig\"),\n",
    "\"MIG3\":(\"UBA-39414\",\"branch\"),\n",
    "\"MIG4\":(\"UBA-39415\",\"twig\"),\n",
    "\"MIG5\":(\"UBA-39416\",\"twig\"),\n",
    "\"MIG6\":(\"UBA-39417\",\"twig\"),\n",
    "\"MIG7\":(\"UBA-41112\",\"needle\"),\n",
    "\"MIG8\":(\"UBA-41113\",\"needle\"),\n",
    "\"MIG9\":(\"UBA-41114\",\"needle\"),\n",
    "\"MIG10\":(\"UBA-41115\",\"needle\"),\n",
    "\"MIG18\":(\"UBA-41116\",\"twig\"),\n",
    "\"MIG19\":(\"UBA-41117\",\"twig\"),\n",
    "\"MIGC1\":(\"UBA-43409\",\"twig\"),\n",
    "\"MIGC2\":(\"UBA-43410\",\"twig\"),\n",
    "\"MIGC4\":(\"UBA-43411\",\"twig\"),\n",
    "\"MIGC6\":(\"UBA-43412\",\"twig\"),\n",
    "\"MIG11\":(\"UBA-43413\",\"cone fragment\"),\n",
    "\"MIGC15\": (\"UBA-43415\", \"twig\")}\n",
    " \n",
    "# |Modern (post 1950 AD)|"
   ]
  },
  {
   "cell_type": "code",
   "execution_count": 16,
   "id": "ordinary-insight",
   "metadata": {},
   "outputs": [
    {
     "name": "stdout",
     "output_type": "stream",
     "text": [
      "|MIG11|UBA-43413|cone fragment|85±23|1682-1732 AD (89.4%) 1810-1839 AD (5.4%) 1894-1903 AD (0.6%) |\n",
      "|MIGC6|UBA-43412|twig|759±23|1227-1284 AD (95.4%) |\n",
      "|MIGC4|UBA-43411|twig|1068±34|900-929 AD (7.2%) 938-1030 AD (88.2%) |\n",
      "|MIGC2|UBA-43410|twig|1172±23|865-900 AD (10.8%) 916-990 AD (84.7%) |\n",
      "|MIGC1|UBA-43409|twig|762±35|1220-1291 AD (95.4%) |\n",
      "|MIG19|UBA-41117|twig|568±22|1310-1360 AD (76.9%) 1390-1414 AD (18.5%) |\n",
      "|MIG18|UBA-41116|twig|981±24|996-1007 AD (3.0%) 1016-1055 AD (43.9%) 1076-1156 AD (48.5%) |\n",
      "|MIG6|UBA-39417|twig|843±25|1166-1266 AD (95.4%) |\n",
      "|MIG5|UBA-39416|twig|595±23|1302-1366 AD (84.8%) 1386-1403 AD (10.6%) |\n",
      "|MIG4|UBA-39415|twig|912±32|1036-1214 AD (95.4%) |\n",
      "|MIG3|UBA-39414|branch|682±30|1274-1320 AD (73.0%) 1360-1388 AD (22.4%) |\n",
      "|MIG2|UBA-39413|twig|1119±38|894-1019 AD (95.4%) |\n",
      "|MIG1|UBA-39412|twig|1060±22|906-916 AD (2.0%) 956-1029 AD (93.5%) |\n",
      "|MIG10|UBA-41115|needle|695±24|1272-1308 AD (83.4%) 1366-1383 AD (12.0%) |\n",
      "|MIG9|UBA-41114|needle|1044±26|959-1036 AD (95.4%) |\n",
      "|MIG8|UBA-41113|needle|951±26|1029-1158 AD (95.4%) |\n",
      "|MIG7|UBA-41112|needle|905±31|1038-1108 AD (47.5%) 1116-1218 AD (47.9%) |\n"
     ]
    }
   ],
   "source": [
    "table = '||||||\\n|---|---|---|---|---|'\n",
    "for i in range(24,7,-1):\n",
    "    date = []\n",
    "    name = d['ocd'][i]['name'] \n",
    "    date = \"{p1}±{p2}\".format(p1 = d['ocd'][i]['date'],p2 = d['ocd'][i]['error'])\n",
    "    calib = \"\"\n",
    "    for rg in d['ocd'][i]['posterior']['range'][2]:\n",
    "        if rg is not None:\n",
    "            sufx = \"{:.0f}-{:.0f} AD ({:.1f}%) \".format(rg[0],rg[1],rg[2])\n",
    "            calib+=sufx\n",
    "\n",
    "    line = \"|{}|{}|{}|{}|{}|\".format(name,samples[name][0],samples[name][1],date,calib)\n",
    "    table+= line+'\\n'\n",
    "    print(line)"
   ]
  }
 ],
 "metadata": {
  "kernelspec": {
   "display_name": "Python 3",
   "language": "python",
   "name": "python3"
  },
  "language_info": {
   "codemirror_mode": {
    "name": "ipython",
    "version": 3
   },
   "file_extension": ".py",
   "mimetype": "text/x-python",
   "name": "python",
   "nbconvert_exporter": "python",
   "pygments_lexer": "ipython3",
   "version": "3.8.5"
  }
 },
 "nbformat": 4,
 "nbformat_minor": 5
}
