{
 "cells": [
  {
   "cell_type": "markdown",
   "metadata": {},
   "source": [
    "# Plotting the Kernel Density Estimate of M-17 ice accumulation phase"
   ]
  },
  {
   "cell_type": "code",
   "execution_count": 1,
   "metadata": {},
   "outputs": [
    {
     "name": "stdout",
     "output_type": "stream",
     "text": [
      "/Users/AchilleTalon/Documents/GitHub/ice-accummulation-M17\n"
     ]
    }
   ],
   "source": [
    "cd .."
   ]
  },
  {
   "cell_type": "code",
   "execution_count": 2,
   "metadata": {},
   "outputs": [],
   "source": [
    "try:\n",
    "    import simplejson as json\n",
    "except (ImportError,):\n",
    "    import json"
   ]
  },
  {
   "cell_type": "code",
   "execution_count": 3,
   "metadata": {},
   "outputs": [],
   "source": [
    "import matplotlib.pyplot as plt\n",
    "import numpy as np\n",
    "import pandas as pd\n",
    "import seaborn as sns\n",
    "\n",
    "from matplotlib.patches import Rectangle\n",
    "from matplotlib.collections import PatchCollection\n",
    "from matplotlib.gridspec import GridSpec"
   ]
  },
  {
   "cell_type": "code",
   "execution_count": 4,
   "metadata": {},
   "outputs": [],
   "source": [
    "import scripts.OxcalReader as ox"
   ]
  },
  {
   "cell_type": "code",
   "execution_count": 5,
   "metadata": {},
   "outputs": [],
   "source": [
    "# define some nice colour palette to use further on.\n",
    "colors = sns.palettes.color_palette('colorblind',n_colors=10)"
   ]
  },
  {
   "cell_type": "code",
   "execution_count": 6,
   "metadata": {},
   "outputs": [],
   "source": [
    "M17 = ox.ReadFile('data/age_model/M17_KDE.json')"
   ]
  },
  {
   "cell_type": "code",
   "execution_count": 7,
   "metadata": {},
   "outputs": [],
   "source": [
    "kde_M17  = M17['ocd'][1]   # the kernel density object\n",
    "start_M17 = M17['ocd'][6]  # boundary object\n",
    "end_M17 = M17['ocd'][-1]  # boundary object"
   ]
  },
  {
   "cell_type": "code",
   "execution_count": 8,
   "metadata": {},
   "outputs": [],
   "source": [
    "# reading the floods proxy data.\n",
    "floods = pd.read_table('data/proxies/Alps_flood.tab',sep='\\t',header=9)\n",
    "\n",
    "# rename the columns\n",
    "floods.columns = ['age','n_alps','s_alps']\n",
    "\n",
    "# change age scale to AD\n",
    "floods['age_AD'] = 1950-1000*floods['age']"
   ]
  },
  {
   "cell_type": "code",
   "execution_count": 9,
   "metadata": {},
   "outputs": [],
   "source": [
    "# read total solar irradiance data\n",
    "nao = pd.read_csv('data/proxies/Hernandez_NAO.tab',sep = '\\t',header = 18)\n",
    "\n",
    "nao_pre = nao.where(nao[\"Age [a AD]\"]<1200).dropna()\n",
    "nao_post = nao.where(nao[\"Age [a AD]\"]>1280).dropna()"
   ]
  },
  {
   "cell_type": "code",
   "execution_count": null,
   "metadata": {},
   "outputs": [],
   "source": []
  },
  {
   "cell_type": "code",
   "execution_count": 10,
   "metadata": {},
   "outputs": [],
   "source": [
    "# read palaeo-NAO index from Hernandez 2020\n",
    "tsi = pd.read_csv('data/proxies/TSI_steinhilber_2009.tab',sep = '\\s\\s', engine = 'python')\n",
    "\n",
    "# change age scale to AD\n",
    "tsi['age_AD'] = 1950 - tsi['year_BP']"
   ]
  },
  {
   "cell_type": "code",
   "execution_count": 11,
   "metadata": {},
   "outputs": [],
   "source": [
    "def plotTSI(ax):\n",
    "    \n",
    "    # plot the data\n",
    "    ax.plot(tsi['age_AD'].to_numpy(),tsi['dTSI'].to_numpy(),label = '$\\Delta$TSI',color = colors[3])\n",
    "    ax.fill_between(tsi['age_AD'].to_numpy(),y1=tsi['dTSI'].to_numpy()-tsi['dTSI_sigma'].to_numpy(),\n",
    "                    y2 = tsi['dTSI'].to_numpy()+ tsi['dTSI_sigma'].to_numpy(),\n",
    "                    label = 'TSI',facecolor=colors[3],alpha = 0.25)\n",
    "    ax.axhline(y=0,color = 'black', lw = 0.5,ls = '--')\n",
    "    # ax limits\n",
    "    ax.set_xlim(400,2000)\n",
    "    \n",
    "    # spine visibility\n",
    "    ax.spines['bottom'].set_visible(False)\n",
    "    ax.spines['top'].set_visible(False)\n",
    "    ax.spines['right'].set_visible(False)\n",
    "    \n",
    "    # axis labels and ticks\n",
    "    ax.xaxis.set_ticklabels([])\n",
    "    ax.xaxis.set_tick_params(bottom=False)\n",
    "    ax.set_ylabel(\"$\\Delta$TSI (W.m$^{-2}$)\\n(Steinhilber et al., 2009)\",**{'size':8})\n",
    "    \n",
    "    return ax"
   ]
  },
  {
   "cell_type": "code",
   "execution_count": 12,
   "metadata": {},
   "outputs": [],
   "source": [
    "def plotNAO(ax):\n",
    "    \n",
    "    #loop over the two sections.\n",
    "    # plot the data\n",
    "    for nao in (nao_pre,nao_post):\n",
    "        \n",
    "        ax.plot(nao['Age [a AD]'].to_numpy(),nao['NAO (median NAO value)'].to_numpy(),label = 'NAO',color = colors[0])\n",
    "        #\n",
    "        ax.fill_between(nao['Age [a AD]'].to_numpy(),y1=nao['Uncertainty [±] (high limit of the 50% of unce...)'].to_numpy(),\n",
    "                    y2 = nao['Uncertainty [±] (low limit of the 50% of uncer...)'].to_numpy(),\n",
    "                    label = 'NAO',facecolor=colors[0],alpha = 0.25)\n",
    "        ax.fill_between(nao['Age [a AD]'].to_numpy(),y1=nao['Uncertainty [±] (high limit of the 95% of unce...)'].to_numpy(),\n",
    "                    y2 = nao['Uncertainty [±] (low limit of the 95% of uncer...)'].to_numpy(),\n",
    "                    label = 'NAO',facecolor=colors[0], alpha = 0.25)\n",
    "\n",
    "\n",
    "    ax.axhline(y=0,color = 'black', lw = 0.5,ls = '--')\n",
    "    # ax limits\n",
    "    ax.set_xlim(400,2000)\n",
    "    \n",
    "    # spine visibility\n",
    "    ax.spines['bottom'].set_visible(False)\n",
    "    ax.spines['top'].set_visible(False)\n",
    "    ax.spines['right'].set_visible(False)\n",
    "    \n",
    "    # axis labels and ticks\n",
    "    ax.xaxis.set_ticklabels([])\n",
    "    ax.xaxis.set_tick_params(bottom=False)\n",
    "    ax.set_ylabel(\"NAO index\\n(Hernández et al., 2020)\",**{'size':8})\n",
    "    \n",
    "    return ax"
   ]
  },
  {
   "cell_type": "code",
   "execution_count": 13,
   "metadata": {},
   "outputs": [],
   "source": [
    "def plotFloods(ax):\n",
    "    \n",
    "    # plot the data for northern and southern alps\n",
    "    ax.plot(floods['age_AD'].to_numpy(),floods['s_alps'].to_numpy(),color = colors[0], label = 'S Alps')\n",
    "    ax.plot(floods['age_AD'].to_numpy(),floods['n_alps'].to_numpy(),color = colors[3],label = 'N Alps')\n",
    "    \n",
    "    # axis limits\n",
    "    ax_flood.set_xlim(400,2000)\n",
    "    \n",
    "    # spine visibility\n",
    "    ax.spines['bottom'].set_visible(False)\n",
    "    ax.spines['top'].set_visible(False)\n",
    "    ax.spines['right'].set_visible(False)\n",
    "    \n",
    "    # axis ticks and labels\n",
    "    ax.xaxis.set_ticklabels([])\n",
    "    ax.xaxis.set_tick_params(bottom=False)\n",
    "    ax.set_ylabel(\"flood frequency (%)\\n(Wirth et al., 2013)\",**{'size':8})\n",
    "    \n",
    "    ax.annotate(\"S Alps\",(850,90),(800,90),ha = 'right',arrowprops=dict(arrowstyle=\"-\",color = colors[0],lw = 1.5),va = 'center')\n",
    "    ax.annotate(\"N Alps\",(650,90),(600,90),ha = 'right',arrowprops=dict(arrowstyle=\"-\",color = colors[3],lw = 1.5),va = 'center')\n",
    "\n",
    "    return ax"
   ]
  },
  {
   "cell_type": "code",
   "execution_count": 14,
   "metadata": {},
   "outputs": [
    {
     "ename": "NameError",
     "evalue": "name 'ax_tsi' is not defined",
     "output_type": "error",
     "traceback": [
      "\u001b[0;31m---------------------------------------------------------------------------\u001b[0m",
      "\u001b[0;31mNameError\u001b[0m                                 Traceback (most recent call last)",
      "\u001b[0;32m<ipython-input-14-da93f67c4ef5>\u001b[0m in \u001b[0;36m<module>\u001b[0;34m()\u001b[0m\n\u001b[1;32m     68\u001b[0m     \u001b[0max\u001b[0m\u001b[0;34m.\u001b[0m\u001b[0mset_xlim\u001b[0m\u001b[0;34m(\u001b[0m\u001b[0;36m400\u001b[0m\u001b[0;34m,\u001b[0m\u001b[0;36m2000\u001b[0m\u001b[0;34m)\u001b[0m\u001b[0;34m\u001b[0m\u001b[0m\n\u001b[1;32m     69\u001b[0m \u001b[0;34m\u001b[0m\u001b[0m\n\u001b[0;32m---> 70\u001b[0;31m \u001b[0;32mfor\u001b[0m \u001b[0max\u001b[0m\u001b[0;34m,\u001b[0m\u001b[0ml\u001b[0m \u001b[0;32min\u001b[0m \u001b[0mzip\u001b[0m\u001b[0;34m(\u001b[0m\u001b[0;34m(\u001b[0m\u001b[0max_tsi\u001b[0m\u001b[0;34m,\u001b[0m\u001b[0max_flood\u001b[0m\u001b[0;34m,\u001b[0m\u001b[0max_NAO\u001b[0m\u001b[0;34m,\u001b[0m\u001b[0max1\u001b[0m\u001b[0;34m,\u001b[0m\u001b[0max4\u001b[0m\u001b[0;34m,\u001b[0m\u001b[0max3\u001b[0m\u001b[0;34m)\u001b[0m\u001b[0;34m,\u001b[0m\u001b[0;34m(\u001b[0m\u001b[0;34m'a'\u001b[0m\u001b[0;34m,\u001b[0m\u001b[0;34m'b'\u001b[0m\u001b[0;34m,\u001b[0m\u001b[0;34m'c'\u001b[0m\u001b[0;34m,\u001b[0m\u001b[0;34m'd'\u001b[0m\u001b[0;34m,\u001b[0m\u001b[0;34m'e'\u001b[0m\u001b[0;34m,\u001b[0m\u001b[0;34m'f'\u001b[0m\u001b[0;34m)\u001b[0m\u001b[0;34m)\u001b[0m\u001b[0;34m:\u001b[0m\u001b[0;34m\u001b[0m\u001b[0m\n\u001b[0m\u001b[1;32m     71\u001b[0m     \u001b[0max\u001b[0m\u001b[0;34m.\u001b[0m\u001b[0mtext\u001b[0m\u001b[0;34m(\u001b[0m\u001b[0;36m410\u001b[0m\u001b[0;34m,\u001b[0m\u001b[0max\u001b[0m\u001b[0;34m.\u001b[0m\u001b[0mget_ylim\u001b[0m\u001b[0;34m(\u001b[0m\u001b[0;34m)\u001b[0m\u001b[0;34m[\u001b[0m\u001b[0;36m1\u001b[0m\u001b[0;34m]\u001b[0m\u001b[0;34m,\u001b[0m\u001b[0;34m'({})'\u001b[0m\u001b[0;34m.\u001b[0m\u001b[0mformat\u001b[0m\u001b[0;34m(\u001b[0m\u001b[0ml\u001b[0m\u001b[0;34m)\u001b[0m\u001b[0;34m,\u001b[0m\u001b[0mha\u001b[0m\u001b[0;34m=\u001b[0m\u001b[0;34m'left'\u001b[0m\u001b[0;34m)\u001b[0m\u001b[0;34m\u001b[0m\u001b[0m\n\u001b[1;32m     72\u001b[0m \u001b[0;34m\u001b[0m\u001b[0m\n",
      "\u001b[0;31mNameError\u001b[0m: name 'ax_tsi' is not defined"
     ]
    },
    {
     "data": {
      "image/png": "[encoded data removed]",
      "text/plain": [
       "<Figure size 576x648 with 3 Axes>"
      ]
     },
     "metadata": {
      "needs_background": "light"
     },
     "output_type": "display_data"
    }
   ],
   "source": [
    "fig = plt.figure( figsize = (8,9))\n",
    "\n",
    "gs = GridSpec(6, 1, height_ratios=[1,1,1, 0.75, 0.5, 1.5])\n",
    "\n",
    "\n",
    "# proxy total solar irradiance\n",
    "#ax_tsi = fig.add_subplot(gs[0])\n",
    "#plotTSI(ax_tsi) \n",
    "\n",
    "# Proxy floods\n",
    "#ax_flood = fig.add_subplot(gs[1])\n",
    "#plotFloods(ax_flood)\n",
    "\n",
    "# Proxy NAO\n",
    "#ax_NAO = fig.add_subplot(gs[2])\n",
    "#plotNAO(ax_NAO)\n",
    "\n",
    "# KDE plotting\n",
    "\n",
    "ax1 = fig.add_subplot(gs[3])\n",
    "\n",
    "# plot KDE model with boundaries\n",
    "KDE_plot,med = ox.FillBetween(ax1,kde_M17,color = colors[0],**{'alpha':0.5})\n",
    "ax1.text(1250,-0.2,'KDE model for accummulation', color =colors[0])\n",
    "ax1.set_ylim(0,2)\n",
    "\n",
    "ax1.text(450,0.8,\"cave activity\",size = 8,ha='center',va = 'center')\n",
    "ax1.annotate(\"\",(450,1.5),(450,0.85), arrowprops=dict(arrowstyle=\"->\"))\n",
    "ax1.annotate(\"\",(450,0.7),(450,0.2), arrowprops=dict(arrowstyle=\"-\"))\n",
    "\n",
    "\n",
    "s_plot,s_med = ox.FillBetween(ax1,start_M17,median=True,color = colors[3])\n",
    "\n",
    "ax1.text(580,0.4,'Boundary start\\n {:.0f}AD'.format(s_med), color =colors[3])\n",
    "\n",
    "ax4 = fig.add_subplot(gs[4])\n",
    "sum_m17 = ox.FillBetween(ax4,M17['ocd'][4],color = 'grey')\n",
    "ax4.text(450,-0.2,'Sum of modelled PDFs', color ='grey')\n",
    "\n",
    "\n",
    "# plot the simplified PDFs.\n",
    "ax3 = fig.add_subplot(gs[5])\n",
    "\n",
    "for c,date in enumerate(M17['ocd'][8:-1]): \n",
    "    d = ox.MakeRects(ax3,date,c,facecolor = 'grey')\n",
    "    ax3.text(date['posterior']['start']-20,c+0.5,s=date['name'],size = 6,va='center', ha = 'right')\n",
    "    ax3.scatter([float(date['posterior']['median'])],[c+0.5],marker ='D',facecolor = 'white',edgecolor='grey',s=10,zorder = 100)\n",
    "\n",
    "ax3.text(450,8,\"stratigraphic order\",size = 8,ha='center',va = 'center')\n",
    "ax3.annotate(\"\",(450,15),(450,8.5), arrowprops=dict(arrowstyle=\"->\"))\n",
    "ax3.annotate(\"\",(450,7.7),(450,3), arrowprops=dict(arrowstyle=\"-\"))\n",
    "\n",
    "ax3.set_xlabel('Calendar year (AD)',**{'size':8})\n",
    "\n",
    "ax3.set_ylim(0,17)\n",
    "\n",
    "for ax in (ax1,ax4):\n",
    "    ax.spines['bottom'].set_visible(False)\n",
    "    ax.xaxis.set_ticklabels([])\n",
    "    ax.xaxis.set_tick_params(bottom=False)\n",
    "\n",
    "for ax in (ax1,ax3,ax4):\n",
    "    ax.spines['top'].set_visible(False)\n",
    "    ax.spines['left'].set_visible(False)\n",
    "    ax.spines['right'].set_visible(False)\n",
    "    ax.yaxis.set_ticklabels([])\n",
    "    ax.yaxis.set_tick_params(left=False)\n",
    "    ax.set_xlim(400,2000)\n",
    "\n",
    "for ax,l in zip((ax_tsi,ax_flood,ax_NAO,ax1,ax4,ax3),('a','b','c','d','e','f')):\n",
    "    ax.text(410,ax.get_ylim()[1],'({})'.format(l),ha='left')\n",
    "    \n",
    "plt.tight_layout()\n",
    "plt.savefig('outputs/age_model.pdf',dpi = 300)\n",
    "plt.savefig('../reports/M17_manuscript/figures/FIGURE_8b.pdf',dpi = 300)\n",
    "plt.show()"
   ]
  },
  {
   "cell_type": "code",
   "execution_count": null,
   "metadata": {},
   "outputs": [],
   "source": []
  }
 ],
 "metadata": {
  "kernelspec": {
   "display_name": "Python 3",
   "language": "python",
   "name": "python3"
  },
  "language_info": {
   "codemirror_mode": {
    "name": "ipython",
    "version": 3
   },
   "file_extension": ".py",
   "mimetype": "text/x-python",
   "name": "python",
   "nbconvert_exporter": "python",
   "pygments_lexer": "ipython3",
   "version": "3.6.6"
  }
 },
 "nbformat": 4,
 "nbformat_minor": 4
}
