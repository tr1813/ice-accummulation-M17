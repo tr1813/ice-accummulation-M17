{
 "cells": [
  {
   "cell_type": "code",
   "execution_count": 1,
   "id": "several-walter",
   "metadata": {},
   "outputs": [],
   "source": [
    "%load_ext autoreload\n",
    "%autoreload 2"
   ]
  },
  {
   "cell_type": "code",
   "execution_count": 2,
   "id": "acquired-entertainment",
   "metadata": {},
   "outputs": [
    {
     "name": "stdout",
     "output_type": "stream",
     "text": [
      "/Users/AchilleTalon/Documents/GitHub/ice-accummulation-M17\n"
     ]
    }
   ],
   "source": [
    "cd .."
   ]
  },
  {
   "cell_type": "code",
   "execution_count": 11,
   "id": "circular-meditation",
   "metadata": {},
   "outputs": [],
   "source": [
    "import json\n",
    "from IPython.display import Markdown as md   # for nice displaying of tables...\n",
    "import scripts.OxcalReader as ox"
   ]
  },
  {
   "cell_type": "code",
   "execution_count": 4,
   "id": "eastern-mileage",
   "metadata": {},
   "outputs": [],
   "source": [
    "# load the OxCal KDE age model.\n",
    "M17 = ox.LoadFile('data/age_model/IntCal20_KDE_Models_Phases_NE_Adriatic.js')"
   ]
  },
  {
   "cell_type": "code",
   "execution_count": 5,
   "id": "figured-jones",
   "metadata": {},
   "outputs": [],
   "source": [
    "# make a dictionary of samples with their codes.\n",
    "\n",
    "samples = {\"MIG1\":(\"UBA-39412\",\"twig\"),\n",
    "\"MIG2\":(\"UBA-39413\",\"twig\"),\n",
    "\"MIG3\":(\"UBA-39414\",\"branch\"),\n",
    "\"MIG4\":(\"UBA-39415\",\"twig\"),\n",
    "\"MIG5\":(\"UBA-39416\",\"twig\"),\n",
    "\"MIG6\":(\"UBA-39417\",\"twig\"),\n",
    "\"MIG7\":(\"UBA-41112\",\"needle\"),\n",
    "\"MIG8\":(\"UBA-41113\",\"needle\"),\n",
    "\"MIG9\":(\"UBA-41114\",\"needle\"),\n",
    "\"MIG10\":(\"UBA-41115\",\"needle\"),\n",
    "\"MIG18\":(\"UBA-41116\",\"twig\"),\n",
    "\"MIG19\":(\"UBA-41117\",\"twig\"),\n",
    "\"MIGC1\":(\"UBA-43409\",\"twig\"),\n",
    "\"MIGC2\":(\"UBA-43410\",\"twig\"),\n",
    "\"MIGC4\":(\"UBA-43411\",\"twig\"),\n",
    "\"MIGC6\":(\"UBA-43412\",\"twig\"),\n",
    "\"MIG11\":(\"UBA-43413\",\"cone fragment\"),\n",
    "\"MIGC15\": (\"UBA-43415\", \"twig\")}\n",
    " \n",
    "# |Modern (post 1950 AD)|"
   ]
  },
  {
   "cell_type": "code",
   "execution_count": 10,
   "id": "ordinary-insight",
   "metadata": {},
   "outputs": [],
   "source": [
    "table = '||||||\\n|---|---|---|---|---|\\n'\n",
    "for i in range(23,6,-1):\n",
    "    date = []\n",
    "    name = M17['ocd'][i]['name'] \n",
    "    date = \"{p1}±{p2}\".format(p1 = M17['ocd'][i]['date'],p2 = M17['ocd'][i]['error'])\n",
    "    calib = \"\"\n",
    "    for rg in M17['ocd'][i]['posterior']['range'][2]:\n",
    "        if rg is not None:\n",
    "            sufx = \"{:.0f}-{:.0f} AD ({:.1f}%) \".format(rg[0],rg[1],rg[2])\n",
    "            calib+=sufx\n",
    "\n",
    "    line = \"|{}|{}|{}|{}|{}|\".format(name,samples[name][0],samples[name][1],date,calib)\n",
    "    table+= line+'\\n'"
   ]
  },
  {
   "cell_type": "code",
   "execution_count": 12,
   "id": "similar-annual",
   "metadata": {},
   "outputs": [
    {
     "data": {
      "text/plain": [
       "'||||||\\n|---|---|---|---|---|\\n|MIG11|UBA-43413|cone fragment|85±23|1682-1732 AD (90.6%) 1811-1838 AD (4.9%) |\\n|MIGC6|UBA-43412|twig|759±23|1227-1285 AD (95.4%) |\\n|MIGC4|UBA-43411|twig|1068±34|900-926 AD (6.7%) 938-1030 AD (88.8%) |\\n|MIGC2|UBA-43410|twig|1172±23|865-900 AD (10.1%) 916-990 AD (85.3%) |\\n|MIGC1|UBA-43409|twig|762±35|1221-1292 AD (95.4%) |\\n|MIG19|UBA-41117|twig|568±22|1310-1360 AD (76.8%) 1390-1415 AD (18.7%) |\\n|MIG18|UBA-41116|twig|981±24|996-1008 AD (3.1%) 1016-1055 AD (43.4%) 1076-1156 AD (49.0%) |\\n|MIG6|UBA-39417|twig|843±25|1166-1266 AD (95.4%) |\\n|MIG5|UBA-39416|twig|595±23|1302-1366 AD (84.6%) 1385-1403 AD (10.9%) |\\n|MIG4|UBA-39415|twig|912±32|1036-1214 AD (95.4%) |\\n|MIG3|UBA-39414|branch|682±30|1274-1320 AD (73.4%) 1360-1388 AD (22.1%) |\\n|MIG2|UBA-39413|twig|1119±38|895-1019 AD (95.4%) |\\n|MIG1|UBA-39412|twig|1060±22|905-914 AD (1.8%) 957-1028 AD (93.6%) |\\n|MIG10|UBA-41115|needle|695±24|1272-1308 AD (83.5%) 1366-1382 AD (12.0%) |\\n|MIG9|UBA-41114|needle|1044±26|958-1036 AD (95.4%) |\\n|MIG8|UBA-41113|needle|951±26|1030-1157 AD (95.4%) |\\n|MIG7|UBA-41112|needle|905±31|1038-1109 AD (47.9%) 1116-1218 AD (47.5%) |\\n'"
      ]
     },
     "execution_count": 12,
     "metadata": {},
     "output_type": "execute_result"
    }
   ],
   "source": [
    "table"
   ]
  },
  {
   "cell_type": "markdown",
   "id": "universal-cleanup",
   "metadata": {},
   "source": [
    "## checking the formatting worked properly"
   ]
  },
  {
   "cell_type": "code",
   "execution_count": 9,
   "id": "injured-softball",
   "metadata": {},
   "outputs": [
    {
     "data": {
      "text/markdown": [
       "||||||\n",
       "|---|---|---|---|---|\n",
       "|MIG11|UBA-43413|cone fragment|85±23|1682-1732 AD (90.6%) 1811-1838 AD (4.9%) |\n",
       "|MIGC6|UBA-43412|twig|759±23|1227-1285 AD (95.4%) |\n",
       "|MIGC4|UBA-43411|twig|1068±34|900-926 AD (6.7%) 938-1030 AD (88.8%) |\n",
       "|MIGC2|UBA-43410|twig|1172±23|865-900 AD (10.1%) 916-990 AD (85.3%) |\n",
       "|MIGC1|UBA-43409|twig|762±35|1221-1292 AD (95.4%) |\n",
       "|MIG19|UBA-41117|twig|568±22|1310-1360 AD (76.8%) 1390-1415 AD (18.7%) |\n",
       "|MIG18|UBA-41116|twig|981±24|996-1008 AD (3.1%) 1016-1055 AD (43.4%) 1076-1156 AD (49.0%) |\n",
       "|MIG6|UBA-39417|twig|843±25|1166-1266 AD (95.4%) |\n",
       "|MIG5|UBA-39416|twig|595±23|1302-1366 AD (84.6%) 1385-1403 AD (10.9%) |\n",
       "|MIG4|UBA-39415|twig|912±32|1036-1214 AD (95.4%) |\n",
       "|MIG3|UBA-39414|branch|682±30|1274-1320 AD (73.4%) 1360-1388 AD (22.1%) |\n",
       "|MIG2|UBA-39413|twig|1119±38|895-1019 AD (95.4%) |\n",
       "|MIG1|UBA-39412|twig|1060±22|905-914 AD (1.8%) 957-1028 AD (93.6%) |\n",
       "|MIG10|UBA-41115|needle|695±24|1272-1308 AD (83.5%) 1366-1382 AD (12.0%) |\n",
       "|MIG9|UBA-41114|needle|1044±26|958-1036 AD (95.4%) |\n",
       "|MIG8|UBA-41113|needle|951±26|1030-1157 AD (95.4%) |\n",
       "|MIG7|UBA-41112|needle|905±31|1038-1109 AD (47.9%) 1116-1218 AD (47.5%) |\n"
      ],
      "text/plain": [
       "<IPython.core.display.Markdown object>"
      ]
     },
     "execution_count": 9,
     "metadata": {},
     "output_type": "execute_result"
    }
   ],
   "source": [
    "md(table)"
   ]
  },
  {
   "cell_type": "code",
   "execution_count": null,
   "id": "surprised-chest",
   "metadata": {},
   "outputs": [],
   "source": []
  }
 ],
 "metadata": {
  "kernelspec": {
   "display_name": "Python 3",
   "language": "python",
   "name": "python3"
  },
  "language_info": {
   "codemirror_mode": {
    "name": "ipython",
    "version": 3
   },
   "file_extension": ".py",
   "mimetype": "text/x-python",
   "name": "python",
   "nbconvert_exporter": "python",
   "pygments_lexer": "ipython3",
   "version": "3.8.5"
  }
 },
 "nbformat": 4,
 "nbformat_minor": 5
}
