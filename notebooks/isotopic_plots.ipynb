{
 "cells": [
  {
   "cell_type": "markdown",
   "metadata": {},
   "source": [
    "# Plotting some results from isotope sampling at M-17 ice cave"
   ]
  },
  {
   "cell_type": "code",
   "execution_count": 1,
   "metadata": {},
   "outputs": [
    {
     "name": "stdout",
     "output_type": "stream",
     "text": [
      "/Users/AchilleTalon/Documents/GitHub/ice-accummulation-M17\n"
     ]
    }
   ],
   "source": [
    "cd .."
   ]
  },
  {
   "cell_type": "code",
   "execution_count": 2,
   "metadata": {},
   "outputs": [],
   "source": [
    "# first input some library imports\n",
    "import pandas as pd\n",
    "import matplotlib.pyplot as plt\n",
    "import scripts.GNIP as gnip"
   ]
  },
  {
   "cell_type": "code",
   "execution_count": 3,
   "metadata": {},
   "outputs": [],
   "source": [
    "pd.set_option('precision', 2)"
   ]
  },
  {
   "cell_type": "code",
   "execution_count": 4,
   "metadata": {},
   "outputs": [],
   "source": [
    "# read the data from the isotope sampling at Migovec, into a pandas dataframe\n",
    "cave = gnip.ReadCustom('data/isotopes/isotopes_migovec.csv')"
   ]
  },
  {
   "cell_type": "code",
   "execution_count": 5,
   "metadata": {},
   "outputs": [],
   "source": [
    "# read the data from GNIP into a dataframe\n",
    "regional = gnip.ReadArchive('data/isotopes/GNIP_archive_slovenia.csv')"
   ]
  },
  {
   "cell_type": "markdown",
   "metadata": {},
   "source": [
    "Now that the different modules and their respective functions are loaded, we are ready to explore the data and plot the results in d2H/d18O space."
   ]
  },
  {
   "cell_type": "code",
   "execution_count": 6,
   "metadata": {},
   "outputs": [
    {
     "data": {
      "text/html": [
       "<div>\n",
       "<style scoped>\n",
       "    .dataframe tbody tr th:only-of-type {\n",
       "        vertical-align: middle;\n",
       "    }\n",
       "\n",
       "    .dataframe tbody tr th {\n",
       "        vertical-align: top;\n",
       "    }\n",
       "\n",
       "    .dataframe thead th {\n",
       "        text-align: right;\n",
       "    }\n",
       "</style>\n",
       "<table border=\"1\" class=\"dataframe\">\n",
       "  <thead>\n",
       "    <tr style=\"text-align: right;\">\n",
       "      <th></th>\n",
       "      <th></th>\n",
       "      <th></th>\n",
       "      <th></th>\n",
       "      <th></th>\n",
       "      <th>s.d. height</th>\n",
       "      <th>d18O</th>\n",
       "      <th>s.d. d18O</th>\n",
       "      <th>d2H</th>\n",
       "      <th>s.d. d2H</th>\n",
       "      <th>layer</th>\n",
       "      <th>layer type</th>\n",
       "      <th>d-excess</th>\n",
       "      <th>s.d. d-excess</th>\n",
       "    </tr>\n",
       "    <tr>\n",
       "      <th>cave</th>\n",
       "      <th>protocol</th>\n",
       "      <th>transect</th>\n",
       "      <th>samplename</th>\n",
       "      <th>column height (cm)</th>\n",
       "      <th></th>\n",
       "      <th></th>\n",
       "      <th></th>\n",
       "      <th></th>\n",
       "      <th></th>\n",
       "      <th></th>\n",
       "      <th></th>\n",
       "      <th></th>\n",
       "      <th></th>\n",
       "    </tr>\n",
       "  </thead>\n",
       "  <tbody>\n",
       "    <tr>\n",
       "      <th rowspan=\"5\" valign=\"top\">M15</th>\n",
       "      <th rowspan=\"2\" valign=\"top\">DRIP</th>\n",
       "      <th rowspan=\"2\" valign=\"top\">-999.0</th>\n",
       "      <th>MIG-77D</th>\n",
       "      <th>-999.0</th>\n",
       "      <td>-999.0</td>\n",
       "      <td>-9.06</td>\n",
       "      <td>0.08</td>\n",
       "      <td>-58.00</td>\n",
       "      <td>0.33</td>\n",
       "      <td>-999.0</td>\n",
       "      <td>-999.0</td>\n",
       "      <td>14.48</td>\n",
       "      <td>0.34</td>\n",
       "    </tr>\n",
       "    <tr>\n",
       "      <th>MIG-78D</th>\n",
       "      <th>-999.0</th>\n",
       "      <td>-999.0</td>\n",
       "      <td>-8.89</td>\n",
       "      <td>0.06</td>\n",
       "      <td>-56.67</td>\n",
       "      <td>0.28</td>\n",
       "      <td>-999.0</td>\n",
       "      <td>-999.0</td>\n",
       "      <td>14.45</td>\n",
       "      <td>0.29</td>\n",
       "    </tr>\n",
       "    <tr>\n",
       "      <th rowspan=\"3\" valign=\"top\">FIRN</th>\n",
       "      <th rowspan=\"3\" valign=\"top\">2.0</th>\n",
       "      <th>MIG-71</th>\n",
       "      <th>200.0</th>\n",
       "      <td>5.0</td>\n",
       "      <td>-5.92</td>\n",
       "      <td>0.04</td>\n",
       "      <td>-36.43</td>\n",
       "      <td>0.33</td>\n",
       "      <td>5.0</td>\n",
       "      <td>0.0</td>\n",
       "      <td>10.93</td>\n",
       "      <td>0.33</td>\n",
       "    </tr>\n",
       "    <tr>\n",
       "      <th>MIG-72</th>\n",
       "      <th>220.0</th>\n",
       "      <td>5.0</td>\n",
       "      <td>-5.51</td>\n",
       "      <td>0.08</td>\n",
       "      <td>-33.52</td>\n",
       "      <td>0.25</td>\n",
       "      <td>5.0</td>\n",
       "      <td>0.0</td>\n",
       "      <td>10.56</td>\n",
       "      <td>0.26</td>\n",
       "    </tr>\n",
       "    <tr>\n",
       "      <th>MIG-73</th>\n",
       "      <th>240.0</th>\n",
       "      <td>5.0</td>\n",
       "      <td>-5.09</td>\n",
       "      <td>0.05</td>\n",
       "      <td>-30.48</td>\n",
       "      <td>0.11</td>\n",
       "      <td>5.0</td>\n",
       "      <td>0.0</td>\n",
       "      <td>10.24</td>\n",
       "      <td>0.12</td>\n",
       "    </tr>\n",
       "  </tbody>\n",
       "</table>\n",
       "</div>"
      ],
      "text/plain": [
       "                                                      s.d. height  d18O  \\\n",
       "cave protocol transect samplename column height (cm)                      \n",
       "M15  DRIP     -999.0   MIG-77D    -999.0                   -999.0 -9.06   \n",
       "                       MIG-78D    -999.0                   -999.0 -8.89   \n",
       "     FIRN      2.0     MIG-71      200.0                      5.0 -5.92   \n",
       "                       MIG-72      220.0                      5.0 -5.51   \n",
       "                       MIG-73      240.0                      5.0 -5.09   \n",
       "\n",
       "                                                      s.d. d18O    d2H  \\\n",
       "cave protocol transect samplename column height (cm)                     \n",
       "M15  DRIP     -999.0   MIG-77D    -999.0                   0.08 -58.00   \n",
       "                       MIG-78D    -999.0                   0.06 -56.67   \n",
       "     FIRN      2.0     MIG-71      200.0                   0.04 -36.43   \n",
       "                       MIG-72      220.0                   0.08 -33.52   \n",
       "                       MIG-73      240.0                   0.05 -30.48   \n",
       "\n",
       "                                                      s.d. d2H  layer   \\\n",
       "cave protocol transect samplename column height (cm)                     \n",
       "M15  DRIP     -999.0   MIG-77D    -999.0                  0.33  -999.0   \n",
       "                       MIG-78D    -999.0                  0.28  -999.0   \n",
       "     FIRN      2.0     MIG-71      200.0                  0.33     5.0   \n",
       "                       MIG-72      220.0                  0.25     5.0   \n",
       "                       MIG-73      240.0                  0.11     5.0   \n",
       "\n",
       "                                                      layer type  d-excess  \\\n",
       "cave protocol transect samplename column height (cm)                         \n",
       "M15  DRIP     -999.0   MIG-77D    -999.0                  -999.0     14.48   \n",
       "                       MIG-78D    -999.0                  -999.0     14.45   \n",
       "     FIRN      2.0     MIG-71      200.0                     0.0     10.93   \n",
       "                       MIG-72      220.0                     0.0     10.56   \n",
       "                       MIG-73      240.0                     0.0     10.24   \n",
       "\n",
       "                                                      s.d. d-excess  \n",
       "cave protocol transect samplename column height (cm)                 \n",
       "M15  DRIP     -999.0   MIG-77D    -999.0                       0.34  \n",
       "                       MIG-78D    -999.0                       0.29  \n",
       "     FIRN      2.0     MIG-71      200.0                       0.33  \n",
       "                       MIG-72      220.0                       0.26  \n",
       "                       MIG-73      240.0                       0.12  "
      ]
     },
     "execution_count": 6,
     "metadata": {},
     "output_type": "execute_result"
    }
   ],
   "source": [
    "cave.head()"
   ]
  },
  {
   "cell_type": "code",
   "execution_count": 7,
   "metadata": {},
   "outputs": [
    {
     "data": {
      "image/png": "[encoded data removed]",
      "text/plain": [
       "<Figure size 864x288 with 3 Axes>"
      ]
     },
     "metadata": {
      "needs_background": "light"
     },
     "output_type": "display_data"
    }
   ],
   "source": [
    "## set up the figure environment\n",
    "fig,(ax1,ax2,ax3) = plt.subplots(1,3,figsize=(12,4))\n",
    "\n",
    "## perform some sub-sampling of M-17 isotope data to be plotted\n",
    "# firn samples from M-17 cave\n",
    "firn = cave.loc[('M17','FIRN')].copy()\n",
    "\n",
    "# dripwater from M-17 and M-15\n",
    "drip = cave.xs('DRIP', level=1, drop_level=False).copy()\n",
    "\n",
    "# congelation ice (both from floor and speleothems)\n",
    "congel = pd.concat((cave.loc[('M17','ICICLE'),:].query('d18O >-12'),\n",
    "           cave.loc[('M17','MELTICE'),:].query('d18O >-12'))).copy()\n",
    "\n",
    "labels = (\"FIRN\",\"DRIP\",\"CONGELATION\")\n",
    "\n",
    "for dat,ax,l in zip((firn,drip,congel),(ax1,ax2,ax3), labels):\n",
    "    \n",
    "    # make arrays of the isotopic data\n",
    "    xi,yi =dat['d18O'].to_numpy(),dat['d2H'].to_numpy()\n",
    "    # compute the PWLSR locally to get the coefficients and plot them\n",
    "    f,coeffs = gnip.PWLSR(regional,'LJUBLJANA')\n",
    "    \n",
    "    # call the custom plotting function on each dataset\n",
    "    gnip.PlotLMWL(ax,regional,'LJUBLJANA',xi,yi,l,(-4.5,-90),**{'ha':'right'})\n",
    "\n",
    "\n",
    "# plot the local meteoric waterline equation but only on the first subplot\n",
    "ax1.text(-13.5,-26, 'LMWL (Ljubljana)', color = 'firebrick', fontsize = 9)\n",
    "ax1.text(-13.5,-30,color = 'firebrick',fontsize = 9,\n",
    "         s =\"y = {:.2f}($\\pm${:.2f}) x+{:.2f}($\\pm${:.2f})\"\\\n",
    "         .format(coeffs['slope'],\n",
    "                 coeffs['$\\\\sigma_{a(w)}$'],\n",
    "                 coeffs['intercept'],\n",
    "                 coeffs['$\\\\sigma_{b(w)}$']))\n",
    "\n",
    "\n",
    "plt.tight_layout()\n",
    "\n",
    "plt.savefig(\"outputs/isotopes.pdf\", dpi =300)\n",
    "plt.show()"
   ]
  }
 ],
 "metadata": {
  "kernelspec": {
   "display_name": "Python 3",
   "language": "python",
   "name": "python3"
  },
  "language_info": {
   "codemirror_mode": {
    "name": "ipython",
    "version": 3
   },
   "file_extension": ".py",
   "mimetype": "text/x-python",
   "name": "python",
   "nbconvert_exporter": "python",
   "pygments_lexer": "ipython3",
   "version": "3.6.6"
  }
 },
 "nbformat": 4,
 "nbformat_minor": 4
}
